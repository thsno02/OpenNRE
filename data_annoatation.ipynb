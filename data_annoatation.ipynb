{
 "cells": [
  {
   "cell_type": "code",
   "execution_count": 21,
   "metadata": {},
   "outputs": [
    {
     "data": {
      "text/plain": [
       "133"
      ]
     },
     "execution_count": 21,
     "metadata": {},
     "output_type": "execute_result"
    }
   ],
   "source": [
    "import os\n",
    "\n",
    "t = str({\n",
    "        \"text\":\n",
    "        \"杨振宁与李政道于1956年共同提出宇称不守恒理论，因而获得1957年诺贝尔物理学奖，成为最早华人诺奖得主之一，他也是目前唯二获得过诺贝尔物理学奖中国公民。\",\n",
    "        \"h\": {\n",
    "            \"pos\": (0, 3)\n",
    "        },\n",
    "        \"t\": {\n",
    "            \"pos\": (4, 7)\n",
    "        }})\n",
    "\n",
    "path = os.getcwd()\n",
    "file = 'data.txt'\n",
    "file_path = os.path.join(path, file)\n",
    "with open(file_path, 'w', encoding='utf-8') as f:\n",
    "    f.write(t)"
   ]
  },
  {
   "cell_type": "code",
   "execution_count": 28,
   "metadata": {},
   "outputs": [
    {
     "name": "stdout",
     "output_type": "stream",
     "text": [
      "the new data is \n",
      " {'text': '9岁时小杰在岛上偶然遇到了猎人凯特，也就是父亲——金·富力士的徒弟，他由凯特口中得知父亲还活著，为了参加猎人试验，他完成了米特开出的条件——钓到沼泽鱼精，决定开始去寻找父亲。', 'h': {'pos': (3, 5)}, 't': {'pos': (15, 17)}}\n"
     ]
    }
   ],
   "source": [
    "def annotate(s: str, h: str, t: str) -> str:\n",
    "    h_pos = (s.index(h), s.index(h) + len(h))\n",
    "    t_pos = (s.index(t), s.index(t) + len(t))\n",
    "    d = {'text': s, 'h': {'pos': h_pos}, 't': {'pos': t_pos}}\n",
    "    return str(d)\n",
    "\n",
    "def input_anno() -> str:\n",
    "    s = input('plz type the string')\n",
    "    e = input('plz type the entities and use white space as seperator')\n",
    "\n",
    "    new = annotate(s, e.split()[0], e.split()[1])\n",
    "    print('the new data is \\n', new)\n",
    "\n",
    "    path = os.getcwd()\n",
    "    file_path = os.path.join(path, 'data.txt')\n",
    "    # new line\n",
    "    if os.path.exists(file_path):\n",
    "        new = '\\n' + annotate(s, e.split()[0], e.split()[1])\n",
    "    with open(file_path, 'a+') as f:\n",
    "        f.write(new)\n",
    "    \n",
    "    return\n",
    "\n",
    "input_anno()"
   ]
  }
 ],
 "metadata": {
  "interpreter": {
   "hash": "24ae7859e19c6c3f9566ca724d508fad34aee826cb5f07c22830f75813a565a1"
  },
  "kernelspec": {
   "display_name": "Python 3.6.13 ('opennre')",
   "language": "python",
   "name": "python3"
  },
  "language_info": {
   "codemirror_mode": {
    "name": "ipython",
    "version": 3
   },
   "file_extension": ".py",
   "mimetype": "text/x-python",
   "name": "python",
   "nbconvert_exporter": "python",
   "pygments_lexer": "ipython3",
   "version": "3.6.13"
  },
  "orig_nbformat": 4
 },
 "nbformat": 4,
 "nbformat_minor": 2
}
